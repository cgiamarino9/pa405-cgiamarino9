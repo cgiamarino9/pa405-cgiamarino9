{
 "cells": [
  {
   "cell_type": "markdown",
   "id": "06ec5961-05a7-4cc4-b626-7e8bb1eded17",
   "metadata": {},
   "source": [
    "# This is my first coding assignment\n",
    "In this assignment, I look at this [311 dataset](https://la.myneighborhooddata.org/2024/02/311-service-requests/) from USC. "
   ]
  },
  {
   "cell_type": "code",
   "execution_count": 2,
   "id": "23c171fa-4815-40f3-bdbe-cb656a0b0877",
   "metadata": {},
   "outputs": [
    {
     "name": "stdout",
     "output_type": "stream",
     "text": [
      "Requirement already satisfied: pandas in c:\\users\\cgiam\\anaconda3\\lib\\site-packages (2.2.3)\n",
      "Requirement already satisfied: numpy>=1.26.0 in c:\\users\\cgiam\\anaconda3\\lib\\site-packages (from pandas) (2.1.3)\n",
      "Requirement already satisfied: python-dateutil>=2.8.2 in c:\\users\\cgiam\\anaconda3\\lib\\site-packages (from pandas) (2.9.0.post0)\n",
      "Requirement already satisfied: pytz>=2020.1 in c:\\users\\cgiam\\anaconda3\\lib\\site-packages (from pandas) (2024.1)\n",
      "Requirement already satisfied: tzdata>=2022.7 in c:\\users\\cgiam\\anaconda3\\lib\\site-packages (from pandas) (2025.2)\n",
      "Requirement already satisfied: six>=1.5 in c:\\users\\cgiam\\anaconda3\\lib\\site-packages (from python-dateutil>=2.8.2->pandas) (1.17.0)\n"
     ]
    },
    {
     "name": "stderr",
     "output_type": "stream",
     "text": [
      "WARNING: Ignoring invalid distribution ~upyterlab (C:\\Users\\cgiam\\anaconda3\\Lib\\site-packages)\n",
      "WARNING: Ignoring invalid distribution ~upyterlab (C:\\Users\\cgiam\\anaconda3\\Lib\\site-packages)\n",
      "WARNING: Ignoring invalid distribution ~upyterlab (C:\\Users\\cgiam\\anaconda3\\Lib\\site-packages)\n"
     ]
    }
   ],
   "source": [
    "# installing pandas module\n",
    "!pip install pandas"
   ]
  },
  {
   "cell_type": "code",
   "execution_count": 3,
   "id": "428364be-6b0a-465a-9fcb-726a1bdf3c89",
   "metadata": {},
   "outputs": [],
   "source": [
    "# importing pandas library\n",
    "import pandas as pd"
   ]
  },
  {
   "cell_type": "code",
   "execution_count": 4,
   "id": "e7d11ddd-53c0-4f27-a907-28523a59c6ff",
   "metadata": {},
   "outputs": [
    {
     "data": {
      "text/html": [
       "<div>\n",
       "<style scoped>\n",
       "    .dataframe tbody tr th:only-of-type {\n",
       "        vertical-align: middle;\n",
       "    }\n",
       "\n",
       "    .dataframe tbody tr th {\n",
       "        vertical-align: top;\n",
       "    }\n",
       "\n",
       "    .dataframe thead th {\n",
       "        text-align: right;\n",
       "    }\n",
       "</style>\n",
       "<table border=\"1\" class=\"dataframe\">\n",
       "  <thead>\n",
       "    <tr style=\"text-align: right;\">\n",
       "      <th></th>\n",
       "      <th>geoid</th>\n",
       "      <th>geoid20</th>\n",
       "      <th>year</th>\n",
       "      <th>denom_total_pop</th>\n",
       "      <th>total_calls</th>\n",
       "      <th>total_calls_rate</th>\n",
       "      <th>homeless_encampment</th>\n",
       "      <th>homeless_encampment_rate</th>\n",
       "      <th>illegal_dumping</th>\n",
       "      <th>illegal_dumping_rate</th>\n",
       "      <th>bulky_items</th>\n",
       "      <th>bulky_items_rate</th>\n",
       "    </tr>\n",
       "  </thead>\n",
       "  <tbody>\n",
       "    <tr>\n",
       "      <th>0</th>\n",
       "      <td>1400000US06037101110</td>\n",
       "      <td>6037101110</td>\n",
       "      <td>2022</td>\n",
       "      <td>4014</td>\n",
       "      <td>1459</td>\n",
       "      <td>3634.7783</td>\n",
       "      <td>14</td>\n",
       "      <td>34.877926</td>\n",
       "      <td>99</td>\n",
       "      <td>246.63676</td>\n",
       "      <td>1025</td>\n",
       "      <td>2553.5625</td>\n",
       "    </tr>\n",
       "    <tr>\n",
       "      <th>1</th>\n",
       "      <td>1400000US06037101122</td>\n",
       "      <td>6037101122</td>\n",
       "      <td>2022</td>\n",
       "      <td>4164</td>\n",
       "      <td>1077</td>\n",
       "      <td>2586.4553</td>\n",
       "      <td>9</td>\n",
       "      <td>21.613832</td>\n",
       "      <td>48</td>\n",
       "      <td>115.27377</td>\n",
       "      <td>695</td>\n",
       "      <td>1669.0682</td>\n",
       "    </tr>\n",
       "    <tr>\n",
       "      <th>2</th>\n",
       "      <td>1400000US06037101220</td>\n",
       "      <td>6037101220</td>\n",
       "      <td>2022</td>\n",
       "      <td>3481</td>\n",
       "      <td>835</td>\n",
       "      <td>2398.7361</td>\n",
       "      <td>13</td>\n",
       "      <td>37.345589</td>\n",
       "      <td>60</td>\n",
       "      <td>172.36426</td>\n",
       "      <td>580</td>\n",
       "      <td>1666.1879</td>\n",
       "    </tr>\n",
       "    <tr>\n",
       "      <th>3</th>\n",
       "      <td>1400000US06037101221</td>\n",
       "      <td>6037101221</td>\n",
       "      <td>2022</td>\n",
       "      <td>3756</td>\n",
       "      <td>891</td>\n",
       "      <td>2372.2046</td>\n",
       "      <td>43</td>\n",
       "      <td>114.483490</td>\n",
       "      <td>147</td>\n",
       "      <td>391.37381</td>\n",
       "      <td>489</td>\n",
       "      <td>1301.9170</td>\n",
       "    </tr>\n",
       "    <tr>\n",
       "      <th>4</th>\n",
       "      <td>1400000US06037101222</td>\n",
       "      <td>6037101222</td>\n",
       "      <td>2022</td>\n",
       "      <td>2808</td>\n",
       "      <td>670</td>\n",
       "      <td>2386.0398</td>\n",
       "      <td>15</td>\n",
       "      <td>53.418804</td>\n",
       "      <td>104</td>\n",
       "      <td>370.37036</td>\n",
       "      <td>366</td>\n",
       "      <td>1303.4188</td>\n",
       "    </tr>\n",
       "  </tbody>\n",
       "</table>\n",
       "</div>"
      ],
      "text/plain": [
       "                  geoid     geoid20  year  denom_total_pop  total_calls  \\\n",
       "0  1400000US06037101110  6037101110  2022             4014         1459   \n",
       "1  1400000US06037101122  6037101122  2022             4164         1077   \n",
       "2  1400000US06037101220  6037101220  2022             3481          835   \n",
       "3  1400000US06037101221  6037101221  2022             3756          891   \n",
       "4  1400000US06037101222  6037101222  2022             2808          670   \n",
       "\n",
       "   total_calls_rate  homeless_encampment  homeless_encampment_rate  \\\n",
       "0         3634.7783                   14                 34.877926   \n",
       "1         2586.4553                    9                 21.613832   \n",
       "2         2398.7361                   13                 37.345589   \n",
       "3         2372.2046                   43                114.483490   \n",
       "4         2386.0398                   15                 53.418804   \n",
       "\n",
       "   illegal_dumping  illegal_dumping_rate  bulky_items  bulky_items_rate  \n",
       "0               99             246.63676         1025         2553.5625  \n",
       "1               48             115.27377          695         1669.0682  \n",
       "2               60             172.36426          580         1666.1879  \n",
       "3              147             391.37381          489         1301.9170  \n",
       "4              104             370.37036          366         1303.4188  "
      ]
     },
     "execution_count": 4,
     "metadata": {},
     "output_type": "execute_result"
    }
   ],
   "source": [
    "complaints = pd.read_csv('data/complaints311.csv', dtype={'geoid20':str}) \n",
    "complaints.head()"
   ]
  },
  {
   "cell_type": "code",
   "execution_count": 5,
   "id": "b5124680-5801-4b01-b0a8-8cbbbb6ce82a",
   "metadata": {},
   "outputs": [],
   "source": [
    "complaints['geoid20'] = complaints['geoid20'].astype(str).str.zfill(11)"
   ]
  },
  {
   "cell_type": "code",
   "execution_count": 6,
   "id": "3767ed03-3598-43c1-b99d-5830b0e5c8d2",
   "metadata": {},
   "outputs": [
    {
     "data": {
      "text/html": [
       "<div>\n",
       "<style scoped>\n",
       "    .dataframe tbody tr th:only-of-type {\n",
       "        vertical-align: middle;\n",
       "    }\n",
       "\n",
       "    .dataframe tbody tr th {\n",
       "        vertical-align: top;\n",
       "    }\n",
       "\n",
       "    .dataframe thead th {\n",
       "        text-align: right;\n",
       "    }\n",
       "</style>\n",
       "<table border=\"1\" class=\"dataframe\">\n",
       "  <thead>\n",
       "    <tr style=\"text-align: right;\">\n",
       "      <th></th>\n",
       "      <th>geoid</th>\n",
       "      <th>geoid20</th>\n",
       "      <th>year</th>\n",
       "      <th>denom_total_pop</th>\n",
       "      <th>total_calls</th>\n",
       "      <th>total_calls_rate</th>\n",
       "      <th>homeless_encampment</th>\n",
       "      <th>homeless_encampment_rate</th>\n",
       "      <th>illegal_dumping</th>\n",
       "      <th>illegal_dumping_rate</th>\n",
       "      <th>bulky_items</th>\n",
       "      <th>bulky_items_rate</th>\n",
       "    </tr>\n",
       "  </thead>\n",
       "  <tbody>\n",
       "    <tr>\n",
       "      <th>0</th>\n",
       "      <td>1400000US06037101110</td>\n",
       "      <td>06037101110</td>\n",
       "      <td>2022</td>\n",
       "      <td>4014</td>\n",
       "      <td>1459</td>\n",
       "      <td>3634.7783</td>\n",
       "      <td>14</td>\n",
       "      <td>34.877926</td>\n",
       "      <td>99</td>\n",
       "      <td>246.63676</td>\n",
       "      <td>1025</td>\n",
       "      <td>2553.5625</td>\n",
       "    </tr>\n",
       "    <tr>\n",
       "      <th>1</th>\n",
       "      <td>1400000US06037101122</td>\n",
       "      <td>06037101122</td>\n",
       "      <td>2022</td>\n",
       "      <td>4164</td>\n",
       "      <td>1077</td>\n",
       "      <td>2586.4553</td>\n",
       "      <td>9</td>\n",
       "      <td>21.613832</td>\n",
       "      <td>48</td>\n",
       "      <td>115.27377</td>\n",
       "      <td>695</td>\n",
       "      <td>1669.0682</td>\n",
       "    </tr>\n",
       "    <tr>\n",
       "      <th>2</th>\n",
       "      <td>1400000US06037101220</td>\n",
       "      <td>06037101220</td>\n",
       "      <td>2022</td>\n",
       "      <td>3481</td>\n",
       "      <td>835</td>\n",
       "      <td>2398.7361</td>\n",
       "      <td>13</td>\n",
       "      <td>37.345589</td>\n",
       "      <td>60</td>\n",
       "      <td>172.36426</td>\n",
       "      <td>580</td>\n",
       "      <td>1666.1879</td>\n",
       "    </tr>\n",
       "    <tr>\n",
       "      <th>3</th>\n",
       "      <td>1400000US06037101221</td>\n",
       "      <td>06037101221</td>\n",
       "      <td>2022</td>\n",
       "      <td>3756</td>\n",
       "      <td>891</td>\n",
       "      <td>2372.2046</td>\n",
       "      <td>43</td>\n",
       "      <td>114.483490</td>\n",
       "      <td>147</td>\n",
       "      <td>391.37381</td>\n",
       "      <td>489</td>\n",
       "      <td>1301.9170</td>\n",
       "    </tr>\n",
       "    <tr>\n",
       "      <th>4</th>\n",
       "      <td>1400000US06037101222</td>\n",
       "      <td>06037101222</td>\n",
       "      <td>2022</td>\n",
       "      <td>2808</td>\n",
       "      <td>670</td>\n",
       "      <td>2386.0398</td>\n",
       "      <td>15</td>\n",
       "      <td>53.418804</td>\n",
       "      <td>104</td>\n",
       "      <td>370.37036</td>\n",
       "      <td>366</td>\n",
       "      <td>1303.4188</td>\n",
       "    </tr>\n",
       "  </tbody>\n",
       "</table>\n",
       "</div>"
      ],
      "text/plain": [
       "                  geoid      geoid20  year  denom_total_pop  total_calls  \\\n",
       "0  1400000US06037101110  06037101110  2022             4014         1459   \n",
       "1  1400000US06037101122  06037101122  2022             4164         1077   \n",
       "2  1400000US06037101220  06037101220  2022             3481          835   \n",
       "3  1400000US06037101221  06037101221  2022             3756          891   \n",
       "4  1400000US06037101222  06037101222  2022             2808          670   \n",
       "\n",
       "   total_calls_rate  homeless_encampment  homeless_encampment_rate  \\\n",
       "0         3634.7783                   14                 34.877926   \n",
       "1         2586.4553                    9                 21.613832   \n",
       "2         2398.7361                   13                 37.345589   \n",
       "3         2372.2046                   43                114.483490   \n",
       "4         2386.0398                   15                 53.418804   \n",
       "\n",
       "   illegal_dumping  illegal_dumping_rate  bulky_items  bulky_items_rate  \n",
       "0               99             246.63676         1025         2553.5625  \n",
       "1               48             115.27377          695         1669.0682  \n",
       "2               60             172.36426          580         1666.1879  \n",
       "3              147             391.37381          489         1301.9170  \n",
       "4              104             370.37036          366         1303.4188  "
      ]
     },
     "execution_count": 6,
     "metadata": {},
     "output_type": "execute_result"
    }
   ],
   "source": [
    "complaints.head()"
   ]
  },
  {
   "cell_type": "code",
   "execution_count": 8,
   "id": "b966ccbe-7a27-4b5c-b52e-1e6440a977d7",
   "metadata": {},
   "outputs": [
    {
     "data": {
      "text/plain": [
       "<Axes: >"
      ]
     },
     "execution_count": 8,
     "metadata": {},
     "output_type": "execute_result"
    },
    {
     "data": {
      "image/png": "[encoded data removed]",
      "text/plain": [
       "<Figure size 640x480 with 1 Axes>"
      ]
     },
     "metadata": {},
     "output_type": "display_data"
    }
   ],
   "source": [
    "# basic plot with 311 complaints\n",
    "complaints.plot()"
   ]
  },
  {
   "cell_type": "code",
   "execution_count": null,
   "id": "fb80f381-054d-4324-b811-c319f3704374",
   "metadata": {},
   "outputs": [
    {
     "data": {
      "text/plain": [
       "<Axes: title={'center': 'Homeless encampment rate by census tract'}, xlabel='geoid20'>"
      ]
     },
     "execution_count": 9,
     "metadata": {},
     "output_type": "execute_result"
    },
    {
     "name": "stdout",
     "output_type": "stream",
     "text": [
      "Error in callback <function _draw_all_if_interactive at 0x000001A0AFBEC040> (for post_execute), with arguments args (),kwargs {}:\n"
     ]
    }
   ],
   "source": [
    "# give it additional arguments\n",
    "complaints.plot.bar(x = 'geoid20', y = 'homeless_encampment_rate', title = 'Homeless encampment rate by census tract')"
   ]
  },
  {
   "cell_type": "code",
   "execution_count": null,
   "id": "aad7cb7d-5f7d-4730-ae0c-da5e05ce0e67",
   "metadata": {},
   "outputs": [],
   "source": []
  }
 ],
 "metadata": {
  "kernelspec": {
   "display_name": "Python 3 (ipykernel)",
   "language": "python",
   "name": "python3"
  },
  "language_info": {
   "codemirror_mode": {
    "name": "ipython",
    "version": 3
   },
   "file_extension": ".py",
   "mimetype": "text/x-python",
   "name": "python",
   "nbconvert_exporter": "python",
   "pygments_lexer": "ipython3",
   "version": "3.13.5"
  }
 },
 "nbformat": 4,
 "nbformat_minor": 5
}
